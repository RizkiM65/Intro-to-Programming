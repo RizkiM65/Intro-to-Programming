{
 "cells": [
  {
   "cell_type": "markdown",
   "id": "1503a6d3",
   "metadata": {},
   "source": [
    "# Aritamtika dan Variabel"
   ]
  },
  {
   "cell_type": "markdown",
   "id": "267a0681",
   "metadata": {},
   "source": [
    "## Inisiasi Variabel dan Operasi Aritmatika"
   ]
  },
  {
   "cell_type": "code",
   "execution_count": 7,
   "id": "d7713e6c",
   "metadata": {},
   "outputs": [
    {
     "name": "stdout",
     "output_type": "stream",
     "text": [
      "Nilai dari a + b:  7\n",
      "Nilai dari a - b:  -1\n",
      "Nilai dari a*b:  12\n",
      "Nilai dari a pangkat b:  81\n",
      "Nilai dari a dibagi b:  0.75\n"
     ]
    }
   ],
   "source": [
    "#menginisiasi nilai variabel a dan b\n",
    "a = 3\n",
    "b = 4\n",
    "\n",
    "#melakukan operasi aritmatika\n",
    "print(\"Nilai dari a + b: \", a + b)\n",
    "print(\"Nilai dari a - b: \", a - b)\n",
    "print(\"Nilai dari a*b: \", a*b)\n",
    "print(\"Nilai dari a pangkat b: \", a**b)\n",
    "print(\"Nilai dari a dibagi b: \", a/b)"
   ]
  },
  {
   "cell_type": "markdown",
   "id": "c44da2a8",
   "metadata": {},
   "source": [
    "## Assignement Variabel dan Operasi Airtmatika"
   ]
  },
  {
   "cell_type": "code",
   "execution_count": 8,
   "id": "15360401",
   "metadata": {},
   "outputs": [
    {
     "name": "stdout",
     "output_type": "stream",
     "text": [
      "Masukkan Nilai a: 2\n",
      "Masukkan Nilai b: 3\n",
      "Nilai dari a + b:  5\n",
      "Nilai dari a - b:  -1\n",
      "Nilai dari a*b:  6\n",
      "Nilai dari a pangkat b:  8\n",
      "Nilai dari a dibagi b:  0.6666666666666666\n"
     ]
    }
   ],
   "source": [
    "#masukkan nilai variabel a dan b\n",
    "a = input(\"Masukkan Nilai a: \")\n",
    "b = input(\"Masukkan Nilai b: \")\n",
    "\n",
    "#mengubah tipe data masukan\n",
    "a = int(a)\n",
    "b = int(b)\n",
    "\n",
    "#melakukan print operasi matematika\n",
    "print(\"Nilai dari a + b: \", a + b)\n",
    "print(\"Nilai dari a - b: \", a - b)\n",
    "print(\"Nilai dari a*b: \", a*b)\n",
    "print(\"Nilai dari a pangkat b: \", a**b)\n",
    "print(\"Nilai dari a dibagi b: \", a/b)"
   ]
  },
  {
   "cell_type": "code",
   "execution_count": null,
   "id": "66768603",
   "metadata": {},
   "outputs": [],
   "source": []
  }
 ],
 "metadata": {
  "kernelspec": {
   "display_name": "Python 3 (ipykernel)",
   "language": "python",
   "name": "python3"
  },
  "language_info": {
   "codemirror_mode": {
    "name": "ipython",
    "version": 3
   },
   "file_extension": ".py",
   "mimetype": "text/x-python",
   "name": "python",
   "nbconvert_exporter": "python",
   "pygments_lexer": "ipython3",
   "version": "3.10.0"
  }
 },
 "nbformat": 4,
 "nbformat_minor": 5
}
