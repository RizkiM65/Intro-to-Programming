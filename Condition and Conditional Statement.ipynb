{
 "cells": [
  {
   "cell_type": "markdown",
   "id": "9a28489e",
   "metadata": {
    "collapsed": true
   },
   "source": [
    "# Condition and Conditional Statement"
   ]
  },
  {
   "cell_type": "markdown",
   "id": "8c021092",
   "metadata": {},
   "source": [
    "## Conditions"
   ]
  },
  {
   "cell_type": "code",
   "execution_count": 2,
   "id": "2e3ce887",
   "metadata": {},
   "outputs": [
    {
     "name": "stdout",
     "output_type": "stream",
     "text": [
      "1.  True\n",
      "2.  True\n",
      "3.  True\n",
      "4.  False\n",
      "5.  False\n",
      "6.  True\n",
      "7.  False\n",
      "8.  True\n",
      "9.  False\n"
     ]
    }
   ],
   "source": [
    "var1 = 3\n",
    "var2 = 4\n",
    "var3 = 3\n",
    "\n",
    "print(\"1. \",var1 < var2)\n",
    "print(\"2. \",var1 <= var2)\n",
    "print(\"3. \",var1 <= var3)\n",
    "print(\"4. \",var1 > var2)\n",
    "print(\"5. \",var1 >= var2)\n",
    "print(\"6. \",var1 >= var3)\n",
    "print(\"7. \",var1 == var2)\n",
    "print(\"8. \",var1 != var2)\n",
    "print(\"9. \",var1 != var3)"
   ]
  },
  {
   "cell_type": "markdown",
   "id": "9ee6c754",
   "metadata": {},
   "source": [
    "## Conditional Statement"
   ]
  },
  {
   "cell_type": "markdown",
   "id": "f9a56470",
   "metadata": {},
   "source": [
    "Fungsi dengan tidak mengembalikan nilai:"
   ]
  },
  {
   "cell_type": "code",
   "execution_count": 4,
   "id": "b4c26f5f",
   "metadata": {},
   "outputs": [
    {
     "name": "stdout",
     "output_type": "stream",
     "text": [
      "Demam Euy!!!\n",
      "Gak Demam Euy :v\n"
     ]
    }
   ],
   "source": [
    "def demam(suhu):\n",
    "    if suhu >36:\n",
    "        print(\"Demam Euy!!!\")\n",
    "    else:\n",
    "        print(\"Gak Demam Euy :v\")\n",
    "    \n",
    "demam(50)\n",
    "demam(10)"
   ]
  },
  {
   "cell_type": "markdown",
   "id": "b560aea1",
   "metadata": {},
   "source": [
    "Fungsi dengan mengembalikan nilai:"
   ]
  },
  {
   "cell_type": "code",
   "execution_count": 7,
   "id": "b8c63e82",
   "metadata": {},
   "outputs": [
    {
     "name": "stdout",
     "output_type": "stream",
     "text": [
      "Masukkan suhu air: 80\n",
      "Air Lumayan Panas\n"
     ]
    }
   ],
   "source": [
    "#fungsi pengkondisian air panas\n",
    "def airpanas(temp):\n",
    "    if temp>=0 and temp<=35:\n",
    "        pesan = \"Air Alami\"\n",
    "    elif temp>=36 and temp<=50:\n",
    "        pesan = \"Air Hangat\"\n",
    "    elif temp>=51 and temp<=80:\n",
    "        pesan = \"Air Lumayan Panas\"\n",
    "    elif temp>=81:\n",
    "        pesan = \"Panas EUy\"\n",
    "    else:\n",
    "        pesan = \"Dingin Pisan ieu Cai teh\"\n",
    "    \n",
    "    return pesan\n",
    "\n",
    "#menerima masukan temp\n",
    "temp = input(\"Masukkan suhu air: \")\n",
    "\n",
    "#mengubah tipe data temp awalnya str jadi int\n",
    "temp = int(temp)\n",
    "\n",
    "#inisiasi nilai var kondisi\n",
    "kondisi = airpanas(temp)\n",
    "print(kondisi)"
   ]
  }
 ],
 "metadata": {
  "kernelspec": {
   "display_name": "Python 3 (ipykernel)",
   "language": "python",
   "name": "python3"
  },
  "language_info": {
   "codemirror_mode": {
    "name": "ipython",
    "version": 3
   },
   "file_extension": ".py",
   "mimetype": "text/x-python",
   "name": "python",
   "nbconvert_exporter": "python",
   "pygments_lexer": "ipython3",
   "version": "3.10.0"
  }
 },
 "nbformat": 4,
 "nbformat_minor": 5
}
