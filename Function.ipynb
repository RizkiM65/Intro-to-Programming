{
 "cells": [
  {
   "cell_type": "markdown",
   "id": "9f6ef4b3",
   "metadata": {},
   "source": [
    "# Function"
   ]
  },
  {
   "cell_type": "markdown",
   "id": "ab76edf6",
   "metadata": {},
   "source": [
    "Perhitungan luas persegi dengan menggunakan fungsi:"
   ]
  },
  {
   "cell_type": "code",
   "execution_count": 1,
   "id": "a58e6cb7",
   "metadata": {},
   "outputs": [],
   "source": [
    "#mendefinisikan fungsi\n",
    "def luaspersegi(sisi): #definisi nama fungsi dan variabel operasi fungsi\n",
    "    luas_persegi=sisi**2 #operasi variabel dalam fungsi\n",
    "    return luas_persegi #pengembalian nilai menggunakan fungsi"
   ]
  },
  {
   "cell_type": "code",
   "execution_count": 2,
   "id": "d20ea698",
   "metadata": {},
   "outputs": [
    {
     "name": "stdout",
     "output_type": "stream",
     "text": [
      "Masukkan panjang sisi persegi: 4\n",
      "16\n"
     ]
    }
   ],
   "source": [
    "sisi = input(\"Masukkan panjang sisi persegi: \") #menerima inputan fungsi\n",
    "sisi = int(sisi) #mengubah tipe data\n",
    "hasil = luaspersegi(sisi) #melakukan pemanggilan fungsi luaspersegi\n",
    "print(hasil) #print luas persegi"
   ]
  },
  {
   "cell_type": "code",
   "execution_count": 3,
   "id": "3675c13a",
   "metadata": {},
   "outputs": [
    {
     "name": "stdout",
     "output_type": "stream",
     "text": [
      "25\n"
     ]
    }
   ],
   "source": [
    "#percobaan mengubah nilai variabel sisi\n",
    "sisi = 5\n",
    "hasil = luaspersegi(sisi)\n",
    "print(hasil)"
   ]
  },
  {
   "cell_type": "markdown",
   "id": "b551a6ea",
   "metadata": {},
   "source": [
    "Perhitungan luas persegi panjang dengan fungsi:"
   ]
  },
  {
   "cell_type": "code",
   "execution_count": 4,
   "id": "fca04bda",
   "metadata": {},
   "outputs": [
    {
     "name": "stdout",
     "output_type": "stream",
     "text": [
      "Masukkan nilai panjang: 2\n",
      "Masukkan nilai lebar: 3\n",
      "Luas persegi panjang:  6\n"
     ]
    }
   ],
   "source": [
    "def luaspp(panjang, lebar):\n",
    "    luas_pp = panjang*lebar\n",
    "    return luas_pp\n",
    "\n",
    "panjang = input(\"Masukkan nilai panjang: \")\n",
    "lebar = input(\"Masukkan nilai lebar: \")\n",
    "\n",
    "panjang = int(panjang)\n",
    "lebar = int(lebar)\n",
    "\n",
    "hasil = luaspp(panjang, lebar)\n",
    "print(\"Luas persegi panjang: \", hasil)"
   ]
  },
  {
   "cell_type": "markdown",
   "id": "2d467065",
   "metadata": {},
   "source": [
    "Fungsi dengan beberapa operasi:"
   ]
  },
  {
   "cell_type": "code",
   "execution_count": 9,
   "id": "c345fab7",
   "metadata": {},
   "outputs": [
    {
     "name": "stdout",
     "output_type": "stream",
     "text": [
      "Volume:  6\n"
     ]
    }
   ],
   "source": [
    "def volumepp (panjang, lebar, tinggi):\n",
    "    luas_alas = panjang*lebar\n",
    "    volume = luas_alas*tinggi\n",
    "    return volume\n",
    "\n",
    "hasil = volumepp(1, 2, 3)\n",
    "print(\"Volume: \", hasil)"
   ]
  },
  {
   "cell_type": "markdown",
   "id": "914ae436",
   "metadata": {},
   "source": [
    "Fungsi tanpa pengembalian nilai:"
   ]
  },
  {
   "cell_type": "code",
   "execution_count": 6,
   "id": "b7e6bc94",
   "metadata": {},
   "outputs": [],
   "source": [
    "def hai():\n",
    "    print(\"Hai namaku Rizki Maula\")\n",
    "    print(\"Aku jomblo!\")"
   ]
  },
  {
   "cell_type": "code",
   "execution_count": 8,
   "id": "7b6522ac",
   "metadata": {},
   "outputs": [
    {
     "name": "stdout",
     "output_type": "stream",
     "text": [
      "Hai namaku Rizki Maula\n",
      "Aku jomblo!\n"
     ]
    }
   ],
   "source": [
    "hai()"
   ]
  }
 ],
 "metadata": {
  "kernelspec": {
   "display_name": "Python 3 (ipykernel)",
   "language": "python",
   "name": "python3"
  },
  "language_info": {
   "codemirror_mode": {
    "name": "ipython",
    "version": 3
   },
   "file_extension": ".py",
   "mimetype": "text/x-python",
   "name": "python",
   "nbconvert_exporter": "python",
   "pygments_lexer": "ipython3",
   "version": "3.10.0"
  }
 },
 "nbformat": 4,
 "nbformat_minor": 5
}
