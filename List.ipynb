{
 "cells": [
  {
   "cell_type": "markdown",
   "id": "ce5e1bce",
   "metadata": {},
   "source": [
    "# LIST"
   ]
  },
  {
   "cell_type": "markdown",
   "id": "3307731a",
   "metadata": {},
   "source": [
    "List merupakan tipe data yang digunakan untuk mengolah dan memanipulasi tipe data string\n",
    "sebagai contoh:\n",
    "menentukan atau memparting nama nama tumbuhan melalui string berikut"
   ]
  },
  {
   "cell_type": "code",
   "execution_count": 2,
   "id": "305d15b1",
   "metadata": {},
   "outputs": [
    {
     "name": "stdout",
     "output_type": "stream",
     "text": [
      "<class 'str'>\n",
      "pink primrose,hard-leaved pocket orchid,canterbury bells,sweet pea,english marigold,tiger lily,moon orchid,bird of paradise,monkshood,globe thistle\n",
      "\n",
      "\n",
      "['pink primrose', 'hard-leaved pocket orchid', 'canterbury bells', 'sweet pea', 'english marigold', 'tiger lily', 'moon orchid', 'bird of paradise', 'monkshood', 'globe thistle']\n",
      "<class 'list'>\n"
     ]
    }
   ],
   "source": [
    "flowers = \"pink primrose,hard-leaved pocket orchid,canterbury bells,sweet pea,english marigold,tiger lily,moon orchid,bird of paradise,monkshood,globe thistle\"\n",
    "\n",
    "print(type(flowers))\n",
    "print(flowers)\n",
    "print(\"\\n\")\n",
    "\n",
    "#parsing\n",
    "flower_list = flowers.split(\",\")\n",
    "print(flower_list)\n",
    "print(type(flower_list))"
   ]
  },
  {
   "cell_type": "markdown",
   "id": "003c4e63",
   "metadata": {},
   "source": [
    "### Panjang List"
   ]
  },
  {
   "cell_type": "code",
   "execution_count": 3,
   "id": "a44a5c72",
   "metadata": {},
   "outputs": [
    {
     "name": "stdout",
     "output_type": "stream",
     "text": [
      "10\n"
     ]
    }
   ],
   "source": [
    "print(len(flower_list))"
   ]
  },
  {
   "cell_type": "markdown",
   "id": "1e5c93e3",
   "metadata": {},
   "source": [
    "### Indeks List"
   ]
  },
  {
   "cell_type": "code",
   "execution_count": 8,
   "id": "d5c0b963",
   "metadata": {},
   "outputs": [
    {
     "name": "stdout",
     "output_type": "stream",
     "text": [
      "1.  pink primrose\n",
      "2.  hard-leaved pocket orchid\n",
      "3.  canterbury bells\n",
      "4.  sweet pea\n",
      "5.  english marigold\n",
      "6.  tiger lily\n",
      "7.  moon orchid\n",
      "8.  bird of paradise\n",
      "9.  monkshood\n",
      "10. globe thistle\n"
     ]
    }
   ],
   "source": [
    "print(\"1. \", flower_list[0])\n",
    "print(\"2. \", flower_list[1])\n",
    "print(\"3. \", flower_list[2])\n",
    "print(\"4. \", flower_list[3])\n",
    "print(\"5. \", flower_list[4])\n",
    "print(\"6. \", flower_list[5])\n",
    "print(\"7. \", flower_list[6])\n",
    "print(\"8. \", flower_list[7])\n",
    "print(\"9. \", flower_list[8])\n",
    "print(\"10.\", flower_list[9])"
   ]
  },
  {
   "cell_type": "markdown",
   "id": "753d3de5",
   "metadata": {},
   "source": [
    "### Slicing List"
   ]
  },
  {
   "cell_type": "code",
   "execution_count": 15,
   "id": "6aba688d",
   "metadata": {},
   "outputs": [
    {
     "name": "stdout",
     "output_type": "stream",
     "text": [
      "['pink primrose', 'hard-leaved pocket orchid', 'canterbury bells', 'sweet pea', 'english marigold', 'tiger lily', 'moon orchid', 'bird of paradise', 'monkshood']\n",
      "\n",
      "\n",
      "['pink primrose', 'hard-leaved pocket orchid', 'canterbury bells', 'sweet pea', 'english marigold']\n",
      "\n",
      "\n",
      "['hard-leaved pocket orchid', 'canterbury bells', 'sweet pea', 'english marigold', 'tiger lily', 'moon orchid', 'bird of paradise', 'monkshood', 'globe thistle']\n",
      "\n",
      "\n",
      "['tiger lily', 'moon orchid', 'bird of paradise', 'monkshood', 'globe thistle']\n",
      "\n",
      "\n",
      "['monkshood', 'globe thistle']\n",
      "\n",
      "\n"
     ]
    }
   ],
   "source": [
    "print(flower_list[:9]) #menampilkan isi list dari indeks 0-9\n",
    "print(\"\\n\")\n",
    "print(flower_list[:5]) #menampilkan isi list dari indeks 0-5\n",
    "print(\"\\n\")\n",
    "print(flower_list[1:]) #menampilkan isi list dari indeks 1-9\n",
    "print(\"\\n\")\n",
    "print(flower_list[5:]) #menampilkan isi list dari indeks 5-9\n",
    "print(\"\\n\")\n",
    "print(flower_list[-2:]) #menampilkan isi list dari indeks 2 dari belakang\n",
    "print(\"\\n\")"
   ]
  },
  {
   "cell_type": "markdown",
   "id": "908fe6ee",
   "metadata": {},
   "source": [
    "### Deleting Items"
   ]
  },
  {
   "cell_type": "code",
   "execution_count": 21,
   "id": "45148ffb",
   "metadata": {},
   "outputs": [
    {
     "name": "stdout",
     "output_type": "stream",
     "text": [
      "['pink primrose', 'hard-leaved pocket orchid', 'canterbury bells', 'sweet pea', 'english marigold', 'tiger lily', 'moon orchid', 'bird of paradise', 'globe thistle']\n"
     ]
    }
   ],
   "source": [
    "flower_list.remove(\"monkshood\")\n",
    "print(flower_list)"
   ]
  },
  {
   "cell_type": "markdown",
   "id": "75f55dac",
   "metadata": {},
   "source": [
    "### Adding Items"
   ]
  },
  {
   "cell_type": "code",
   "execution_count": 22,
   "id": "a92833e3",
   "metadata": {},
   "outputs": [
    {
     "name": "stdout",
     "output_type": "stream",
     "text": [
      "['pink primrose', 'hard-leaved pocket orchid', 'canterbury bells', 'sweet pea', 'english marigold', 'tiger lily', 'moon orchid', 'bird of paradise', 'globe thistle', 'Bunga Bangke']\n"
     ]
    }
   ],
   "source": [
    "flower_list.append(\"Bunga Bangke\")\n",
    "print(flower_list)"
   ]
  },
  {
   "cell_type": "markdown",
   "id": "6004b45c",
   "metadata": {},
   "source": [
    "## ARRAY"
   ]
  },
  {
   "cell_type": "code",
   "execution_count": 38,
   "id": "0a500378",
   "metadata": {},
   "outputs": [
    {
     "name": "stdout",
     "output_type": "stream",
     "text": [
      "0, 1, 2, 3, 4, 5, 6, 7, 8, 9\n",
      "<class 'str'>\n",
      "\n",
      "\n",
      "['0', '1', '2', '3', '4', '5', '6', '7', '8', '9']\n",
      "<class 'list'>\n"
     ]
    }
   ],
   "source": [
    "num = \"0, 1, 2, 3, 4, 5, 6, 7, 8, 9\"\n",
    "print(num)\n",
    "print(type(num))\n",
    "print(\"\\n\")\n",
    "angka = num.split(\", \")\n",
    "print(angka)\n",
    "print(type(angka))"
   ]
  },
  {
   "cell_type": "code",
   "execution_count": 27,
   "id": "dac345a1",
   "metadata": {},
   "outputs": [
    {
     "name": "stdout",
     "output_type": "stream",
     "text": [
      "0\n",
      "1\n",
      "2\n",
      "3\n",
      "4\n",
      "5\n",
      "6\n",
      "7\n",
      "8\n",
      "9\n"
     ]
    }
   ],
   "source": [
    "print(angka[0])\n",
    "print(angka[1])\n",
    "print(angka[2])\n",
    "print(angka[3])\n",
    "print(angka[4])\n",
    "print(angka[5])\n",
    "print(angka[6])\n",
    "print(angka[7])\n",
    "print(angka[8])\n",
    "print(angka[9])"
   ]
  },
  {
   "cell_type": "code",
   "execution_count": 34,
   "id": "5f3d0830",
   "metadata": {},
   "outputs": [
    {
     "name": "stdout",
     "output_type": "stream",
     "text": [
      "Panjang List:  10\n",
      "Nilai Maksimum List:  9\n",
      "Nilai Minimum List:  0\n"
     ]
    }
   ],
   "source": [
    "print(\"Panjang List: \", len(angka))\n",
    "print(\"Nilai Maksimum List: \", max(angka))\n",
    "print(\"Nilai Minimum List: \", min(angka))"
   ]
  },
  {
   "cell_type": "code",
   "execution_count": 39,
   "id": "906cfc1e",
   "metadata": {},
   "outputs": [
    {
     "name": "stdout",
     "output_type": "stream",
     "text": [
      "45\n",
      "4.5\n"
     ]
    }
   ],
   "source": [
    "num1 = [0, 1, 2, 3, 4, 5, 6, 7, 8, 9]\n",
    "print(sum(num1))\n",
    "print(sum(num1)/10)"
   ]
  },
  {
   "cell_type": "code",
   "execution_count": null,
   "id": "879093e8",
   "metadata": {},
   "outputs": [],
   "source": []
  }
 ],
 "metadata": {
  "kernelspec": {
   "display_name": "Python 3 (ipykernel)",
   "language": "python",
   "name": "python3"
  },
  "language_info": {
   "codemirror_mode": {
    "name": "ipython",
    "version": 3
   },
   "file_extension": ".py",
   "mimetype": "text/x-python",
   "name": "python",
   "nbconvert_exporter": "python",
   "pygments_lexer": "ipython3",
   "version": "3.10.0"
  }
 },
 "nbformat": 4,
 "nbformat_minor": 5
}
