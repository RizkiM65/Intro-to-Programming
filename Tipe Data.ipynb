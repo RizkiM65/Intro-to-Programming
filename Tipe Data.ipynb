{
 "cells": [
  {
   "cell_type": "markdown",
   "id": "dd3738ff",
   "metadata": {},
   "source": [
    "# Tipe Data"
   ]
  },
  {
   "cell_type": "markdown",
   "id": "5d2cee7d",
   "metadata": {},
   "source": [
    "## Integer"
   ]
  },
  {
   "cell_type": "code",
   "execution_count": 1,
   "id": "9fa95e0d",
   "metadata": {},
   "outputs": [
    {
     "name": "stdout",
     "output_type": "stream",
     "text": [
      "5\n",
      "<class 'int'>\n"
     ]
    }
   ],
   "source": [
    "a = 5 #inisiasi variabel a\n",
    "print(a) #menulis nilai variabel a\n",
    "print(type(a)) #menulis tipe data dari variabel a"
   ]
  },
  {
   "cell_type": "markdown",
   "id": "dd268e79",
   "metadata": {},
   "source": [
    "## Float"
   ]
  },
  {
   "cell_type": "code",
   "execution_count": 4,
   "id": "8f462657",
   "metadata": {},
   "outputs": [
    {
     "name": "stdout",
     "output_type": "stream",
     "text": [
      "3.141592653589793\n",
      "<class 'float'>\n",
      "3.14159\n",
      "\n",
      "\n",
      "3.142857142857143\n",
      "<class 'float'>\n",
      "3.14286\n"
     ]
    }
   ],
   "source": [
    "pi = 3.141592653589793238462643383279502884197169399375105820974944\n",
    "print(pi)\n",
    "print(type(pi))\n",
    "print(round(pi, 5)) #untuk membatasi jumlah nilai dibelakang koma\n",
    "print(\"\\n\") #enter\n",
    "pi2 = 22/7\n",
    "print(pi2)\n",
    "print(type(pi2))\n",
    "print(round(pi2, 5))"
   ]
  },
  {
   "cell_type": "markdown",
   "id": "745f2395",
   "metadata": {},
   "source": [
    "## Boolean"
   ]
  },
  {
   "cell_type": "code",
   "execution_count": 5,
   "id": "85f0888e",
   "metadata": {},
   "outputs": [
    {
     "name": "stdout",
     "output_type": "stream",
     "text": [
      "True\n",
      "<class 'bool'>\n",
      "\n",
      "\n",
      "False\n",
      "<class 'bool'>\n"
     ]
    }
   ],
   "source": [
    "pernyataan1 = True\n",
    "print(pernyataan1)\n",
    "print(type(pernyataan1))\n",
    "print(\"\\n\")\n",
    "pernyataan2 = not pernyataan1\n",
    "print(pernyataan2)\n",
    "print(type(pernyataan2))"
   ]
  },
  {
   "cell_type": "code",
   "execution_count": 12,
   "id": "6265ab26",
   "metadata": {},
   "outputs": [
    {
     "name": "stdout",
     "output_type": "stream",
     "text": [
      "True\n",
      "False\n",
      "False\n",
      "True\n"
     ]
    }
   ],
   "source": [
    "pernyataan3 = pernyataan1 or pernyataan2 #logika or\n",
    "pernyataan4 = pernyataan1 and pernyataan2 #logika and\n",
    "pernyataan5 = not (pernyataan1 or pernyataan2) #logika nand\n",
    "pernyataan6 = not (pernyataan1 and pernyataan2) #logika nor\n",
    "print(pernyataan3)\n",
    "print(pernyataan4)\n",
    "print(pernyataan5)\n",
    "print(pernyataan6)"
   ]
  },
  {
   "cell_type": "code",
   "execution_count": 14,
   "id": "2960c699",
   "metadata": {},
   "outputs": [
    {
     "name": "stdout",
     "output_type": "stream",
     "text": [
      "True\n",
      "<class 'bool'>\n",
      "False\n",
      "<class 'bool'>\n"
     ]
    }
   ],
   "source": [
    "pernyataan7 = (3 < 5) #dapat menggunakan logika perbandingan\n",
    "print(pernyataan7)\n",
    "print(type(pernyataan7))\n",
    "\n",
    "pernyataan8 = (3 > 5)\n",
    "print(pernyataan8)\n",
    "print(type(pernyataan8))"
   ]
  },
  {
   "cell_type": "markdown",
   "id": "100a04e0",
   "metadata": {},
   "source": [
    "## String"
   ]
  },
  {
   "cell_type": "code",
   "execution_count": 26,
   "id": "39c535af",
   "metadata": {},
   "outputs": [
    {
     "name": "stdout",
     "output_type": "stream",
     "text": [
      "Rizki Maula\n",
      "<class 'str'>\n",
      "11\n",
      "rizki maula\n",
      "RIZKI MAULA\n",
      "Rizki Maula\n",
      "Rizki Ganteng\n",
      "['Rizki', 'Maula']\n",
      "Rizki#Maula\n",
      "6\n"
     ]
    }
   ],
   "source": [
    "kata = \"Rizki Maula\"\n",
    "print(kata)\n",
    "print(type(kata))\n",
    "print(len(kata)) #mengetahui panjang string\n",
    "print(str.lower(kata)) #mengubah string menjadi huruf kecil semua\n",
    "print(str.upper(kata)) #mengubah string menjadi huruf besar semua\n",
    "print(str.strip(kata)) #memanggil string dengan menambahkan spasi pada keluarannya\n",
    "print(kata.replace(\"Maula\", \"Ganteng\")) #mengubah elemen string \"Maula\" dalam variabel kata dengan \"Ganteng\"\n",
    "print(kata.split(\" \")) #melakukan split atau parsing terhadap string\n",
    "print(\"#\".join(kata.split(\" \"))) #melakukan penggabungan array karakter dengan menambahkan \"#\" sebagai penghubung\n",
    "print(kata.find(\"Maula\")) #mencari str \"Maula\" dalam variabel str kata"
   ]
  },
  {
   "cell_type": "markdown",
   "id": "b02413e1",
   "metadata": {},
   "source": [
    "Pengubahan tipe data dari str ke yang lain:"
   ]
  },
  {
   "cell_type": "code",
   "execution_count": 27,
   "id": "b6e994ae",
   "metadata": {},
   "outputs": [
    {
     "name": "stdout",
     "output_type": "stream",
     "text": [
      "123\n",
      "<class 'str'>\n",
      "\n",
      "\n",
      "123\n",
      "<class 'int'>\n"
     ]
    }
   ],
   "source": [
    "a = \"123\"\n",
    "print(a)\n",
    "print(type(a))\n",
    "print(\"\\n\")\n",
    "a = int(a)\n",
    "print(a)\n",
    "print(type(a))"
   ]
  },
  {
   "cell_type": "code",
   "execution_count": 28,
   "id": "9a0f48d1",
   "metadata": {},
   "outputs": [
    {
     "name": "stdout",
     "output_type": "stream",
     "text": [
      "3.14\n",
      "<class 'str'>\n",
      "\n",
      "\n",
      "3.14\n",
      "<class 'float'>\n"
     ]
    }
   ],
   "source": [
    "pi = \"3.14\"\n",
    "print(pi)\n",
    "print(type(pi))\n",
    "print(\"\\n\")\n",
    "pi = float(pi)\n",
    "print(pi)\n",
    "print(type(pi))"
   ]
  },
  {
   "cell_type": "markdown",
   "id": "7772b637",
   "metadata": {},
   "source": [
    "Operasi str:"
   ]
  },
  {
   "cell_type": "code",
   "execution_count": 32,
   "id": "a2e95188",
   "metadata": {},
   "outputs": [
    {
     "name": "stdout",
     "output_type": "stream",
     "text": [
      "abcdef\n",
      "abcabcabc\n"
     ]
    }
   ],
   "source": [
    "hasil = \"abc\" + \"def\"\n",
    "print(hasil)\n",
    "\n",
    "hasil2 = \"abc\"*3\n",
    "print(hasil2)"
   ]
  },
  {
   "cell_type": "code",
   "execution_count": null,
   "id": "4144d020",
   "metadata": {},
   "outputs": [],
   "source": []
  }
 ],
 "metadata": {
  "kernelspec": {
   "display_name": "Python 3 (ipykernel)",
   "language": "python",
   "name": "python3"
  },
  "language_info": {
   "codemirror_mode": {
    "name": "ipython",
    "version": 3
   },
   "file_extension": ".py",
   "mimetype": "text/x-python",
   "name": "python",
   "nbconvert_exporter": "python",
   "pygments_lexer": "ipython3",
   "version": "3.10.0"
  }
 },
 "nbformat": 4,
 "nbformat_minor": 5
}
